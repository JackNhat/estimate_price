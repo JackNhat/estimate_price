{
 "cells": [
  {
   "cell_type": "code",
   "execution_count": 14,
   "metadata": {},
   "outputs": [],
   "source": [
    "import pandas as pd\n",
    "import numpy as np\n",
    "from sklearn.model_selection import train_test_split\n",
    "import seaborn as sns\n",
    "sns.set_style(\"white\")\n",
    "import matplotlib.patches as mpatches\n",
    "import matplotlib.pyplot as plt\n",
    "from pylab import rcParams"
   ]
  },
  {
   "cell_type": "code",
   "execution_count": 21,
   "metadata": {},
   "outputs": [
    {
     "data": {
      "text/html": [
       "<div>\n",
       "<style scoped>\n",
       "    .dataframe tbody tr th:only-of-type {\n",
       "        vertical-align: middle;\n",
       "    }\n",
       "\n",
       "    .dataframe tbody tr th {\n",
       "        vertical-align: top;\n",
       "    }\n",
       "\n",
       "    .dataframe thead th {\n",
       "        text-align: right;\n",
       "    }\n",
       "</style>\n",
       "<table border=\"1\" class=\"dataframe\">\n",
       "  <thead>\n",
       "    <tr style=\"text-align: right;\">\n",
       "      <th></th>\n",
       "      <th>brands</th>\n",
       "      <th>model</th>\n",
       "      <th>chip_brands</th>\n",
       "      <th>chip_speed</th>\n",
       "      <th>chip_type</th>\n",
       "      <th>ram</th>\n",
       "      <th>hdd</th>\n",
       "      <th>ssd</th>\n",
       "      <th>card_brand</th>\n",
       "      <th>card_model</th>\n",
       "      <th>monitorSize</th>\n",
       "      <th>price</th>\n",
       "    </tr>\n",
       "  </thead>\n",
       "  <tbody>\n",
       "    <tr>\n",
       "      <th>0</th>\n",
       "      <td>brands</td>\n",
       "      <td>model</td>\n",
       "      <td>chip_brands</td>\n",
       "      <td>chip_speed</td>\n",
       "      <td>chip_type</td>\n",
       "      <td>ram</td>\n",
       "      <td>hdd</td>\n",
       "      <td>ssd</td>\n",
       "      <td>card_brand</td>\n",
       "      <td>card_model</td>\n",
       "      <td>monitorSize</td>\n",
       "      <td>price</td>\n",
       "    </tr>\n",
       "    <tr>\n",
       "      <th>1</th>\n",
       "      <td>Dell</td>\n",
       "      <td>Latitude E6220</td>\n",
       "      <td>Intel</td>\n",
       "      <td>2.5GHz</td>\n",
       "      <td>Core i5-2520M</td>\n",
       "      <td>4</td>\n",
       "      <td>320</td>\n",
       "      <td>0</td>\n",
       "      <td>Intel</td>\n",
       "      <td>HD Graphics 3000</td>\n",
       "      <td>12.5</td>\n",
       "      <td>5.4</td>\n",
       "    </tr>\n",
       "    <tr>\n",
       "      <th>2</th>\n",
       "      <td>MSI</td>\n",
       "      <td>GT70 2PE</td>\n",
       "      <td>Intel</td>\n",
       "      <td>2.8Ghz</td>\n",
       "      <td>Core i7-4810MQ</td>\n",
       "      <td>16</td>\n",
       "      <td>1024</td>\n",
       "      <td>128</td>\n",
       "      <td>NVIDIA</td>\n",
       "      <td>Geforce GTX880M 8GB</td>\n",
       "      <td>17.3</td>\n",
       "      <td>55.899</td>\n",
       "    </tr>\n",
       "    <tr>\n",
       "      <th>3</th>\n",
       "      <td>HP</td>\n",
       "      <td>Probook 450</td>\n",
       "      <td>Intel</td>\n",
       "      <td>2.6GHz</td>\n",
       "      <td>Core i5-3230M</td>\n",
       "      <td>4</td>\n",
       "      <td>750</td>\n",
       "      <td>0</td>\n",
       "      <td>Intel</td>\n",
       "      <td>HD Graphics 4000</td>\n",
       "      <td>15.6</td>\n",
       "      <td>15.4</td>\n",
       "    </tr>\n",
       "    <tr>\n",
       "      <th>4</th>\n",
       "      <td>Toshiba</td>\n",
       "      <td>Satellite L850-1012</td>\n",
       "      <td>Intel</td>\n",
       "      <td>2.4Ghz</td>\n",
       "      <td>Core i3-2370M</td>\n",
       "      <td>2</td>\n",
       "      <td>500</td>\n",
       "      <td>0</td>\n",
       "      <td>Intel</td>\n",
       "      <td>HD Graphics 4000</td>\n",
       "      <td>15.6</td>\n",
       "      <td>8.29</td>\n",
       "    </tr>\n",
       "  </tbody>\n",
       "</table>\n",
       "</div>"
      ],
      "text/plain": [
       "    brands                model  chip_brands  chip_speed        chip_type  \\\n",
       "0   brands                model  chip_brands  chip_speed        chip_type   \n",
       "1     Dell       Latitude E6220        Intel      2.5GHz   Core i5-2520M    \n",
       "2      MSI             GT70 2PE        Intel      2.8Ghz  Core i7-4810MQ    \n",
       "3       HP          Probook 450        Intel      2.6GHz   Core i5-3230M    \n",
       "4  Toshiba  Satellite L850-1012        Intel      2.4Ghz   Core i3-2370M    \n",
       "\n",
       "   ram   hdd  ssd  card_brand           card_model  monitorSize   price  \n",
       "0  ram   hdd  ssd  card_brand           card_model  monitorSize   price  \n",
       "1    4   320    0       Intel     HD Graphics 3000         12.5     5.4  \n",
       "2   16  1024  128      NVIDIA  Geforce GTX880M 8GB         17.3  55.899  \n",
       "3    4   750    0       Intel     HD Graphics 4000         15.6    15.4  \n",
       "4    2   500    0       Intel     HD Graphics 4000         15.6    8.29  "
      ]
     },
     "execution_count": 21,
     "metadata": {},
     "output_type": "execute_result"
    }
   ],
   "source": [
    "colnames = ['brands', 'model', 'chip_brands', 'chip_speed', 'chip_type', 'ram', 'hdd', 'ssd', 'card_brand', 'card_model',\t'monitorSize', 'price']\n",
    "# read the excel file as a dataframe\n",
    "df = pd.read_excel(\"./data/train.xlsx\", names=colnames, header=None)\n",
    "# let's get some simple vision on our dataset\n",
    "df.head()"
   ]
  },
  {
   "cell_type": "code",
   "execution_count": 27,
   "metadata": {},
   "outputs": [],
   "source": [
    "df.price = pd.to_numeric(df.price, errors = 'coerce', downcast= 'integer')\n",
    "df.monitorSize = pd.to_numeric(df.monitorSize, errors = 'coerce', downcast= 'integer')\n",
    "df.ram = pd.to_numeric(df.ram, errors = 'coerce', downcast= 'integer')\n",
    "df.hdd = pd.to_numeric(df.hdd, errors = 'coerce', downcast= 'integer')\n",
    "df.ssd = pd.to_numeric(df.ssd, errors = 'coerce', downcast= 'integer')"
   ]
  },
  {
   "cell_type": "code",
   "execution_count": 26,
   "metadata": {},
   "outputs": [
    {
     "data": {
      "image/png": "[encoded data removed]",
      "text/plain": [
       "<Figure size 1080x576 with 1 Axes>"
      ]
     },
     "metadata": {
      "needs_background": "light"
     },
     "output_type": "display_data"
    }
   ],
   "source": [
    "# here we set the figure size to 15x8\n",
    "plt.figure(figsize=(15, 8))\n",
    "# plot two values price per monitorSize\n",
    "plt.scatter(df.price, df.monitorSize)\n",
    "plt.xlabel(\"Price\", fontsize=14)\n",
    "plt.ylabel(\"Monitor size\", fontsize=14)\n",
    "plt.title(\"Scatter plot of price and monitor size\",fontsize=18)\n",
    "plt.show()"
   ]
  }
 ],
 "metadata": {
  "kernelspec": {
   "display_name": "Python 3",
   "language": "python",
   "name": "python3"
  },
  "language_info": {
   "codemirror_mode": {
    "name": "ipython",
    "version": 3
   },
   "file_extension": ".py",
   "mimetype": "text/x-python",
   "name": "python",
   "nbconvert_exporter": "python",
   "pygments_lexer": "ipython3",
   "version": "3.7.0"
  }
 },
 "nbformat": 4,
 "nbformat_minor": 2
}
